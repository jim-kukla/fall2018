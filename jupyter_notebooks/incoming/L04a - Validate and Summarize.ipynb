{
 "cells": [
  {
   "cell_type": "code",
   "execution_count": null,
   "metadata": {},
   "outputs": [],
   "source": [
    "import pandas as pd"
   ]
  },
  {
   "cell_type": "code",
   "execution_count": null,
   "metadata": {},
   "outputs": [],
   "source": [
    "#  First we load in the dataset.  In this case, it's a TSV file (tab-separated values) so we tell .read_csv() that tab is the sep character.\n",
    "custdata = pd.read_csv(\"https://raw.githubusercontent.com/WinVector/zmPDSwR/master/Custdata/custdata.tsv\", sep=\"\\t\")"
   ]
  },
  {
   "cell_type": "code",
   "execution_count": null,
   "metadata": {},
   "outputs": [],
   "source": [
    "#  To see the first few lines, we can call .head() on the dataframe.\n",
    "custdata.head()"
   ]
  },
  {
   "cell_type": "code",
   "execution_count": null,
   "metadata": {},
   "outputs": [],
   "source": [
    "#  To get a list of the column names...\n",
    "custdata.columns"
   ]
  },
  {
   "cell_type": "code",
   "execution_count": null,
   "metadata": {},
   "outputs": [],
   "source": [
    "#  To see how many rows and columns we have ...\n",
    "custdata.shape"
   ]
  },
  {
   "cell_type": "code",
   "execution_count": null,
   "metadata": {},
   "outputs": [],
   "source": [
    "#  To get an overall sense of the dataset, we can use a few methods:\n",
    "custdata.dtypes"
   ]
  },
  {
   "cell_type": "code",
   "execution_count": null,
   "metadata": {},
   "outputs": [],
   "source": [
    "custdata.info()"
   ]
  },
  {
   "cell_type": "code",
   "execution_count": null,
   "metadata": {},
   "outputs": [],
   "source": [
    "#  We'll explain this one later, but it's useful for seeing the unique values for each column.\n",
    "custdata.apply(lambda x: [x.unique()])"
   ]
  },
  {
   "cell_type": "code",
   "execution_count": null,
   "metadata": {},
   "outputs": [],
   "source": [
    "#  Unique values for a given column?\n",
    "custdata.sex.unique()"
   ]
  },
  {
   "cell_type": "code",
   "execution_count": null,
   "metadata": {},
   "outputs": [],
   "source": [
    "#  You can also index columns based on the array index notation...\n",
    "custdata['sex'].unique()"
   ]
  },
  {
   "cell_type": "code",
   "execution_count": null,
   "metadata": {},
   "outputs": [],
   "source": [
    "#  Get the first row of the dataframe...\n",
    "custdata.iloc[0]\n",
    "#  Note that this customer has a `NaN` value (not a number) for is.employed.  This is a missing value in pandas."
   ]
  },
  {
   "cell_type": "code",
   "execution_count": null,
   "metadata": {},
   "outputs": [],
   "source": [
    "#  Or get all the rows where sex = 'F'\n",
    "custdata[custdata.sex == 'F']"
   ]
  },
  {
   "cell_type": "code",
   "execution_count": null,
   "metadata": {},
   "outputs": [],
   "source": [
    "# Note that this works because of what \"==\" means when applied to a dataframe column.\n",
    "custdata.sex == 'F'"
   ]
  },
  {
   "cell_type": "markdown",
   "metadata": {},
   "source": [
    "Note that this applies the `==` operator to each element in turn and returns a series of bool values.  These are then used to filter the dataframe so that when we run the previous command, it gives back only the elements for which the corresponding entry here is `True`."
   ]
  },
  {
   "cell_type": "code",
   "execution_count": null,
   "metadata": {},
   "outputs": [],
   "source": [
    "#  We can find elements that _are_ na:\n",
    "custdata.isna()\n",
    "\n",
    "#  ... or simply drop anything with an na\n",
    "custdata.dropna()"
   ]
  },
  {
   "cell_type": "code",
   "execution_count": null,
   "metadata": {},
   "outputs": [],
   "source": [
    "#  Rows for which .is.employed is NaN\n",
    "custdata[custdata['is.employed'].isna()]"
   ]
  },
  {
   "cell_type": "code",
   "execution_count": null,
   "metadata": {},
   "outputs": [],
   "source": [
    "#  What is the highest .income?\n",
    "custdata.income.max()\n",
    "#  Note that I call it .income very explicitly, since it would be easy to assume that's salary, but that ignores other types of income."
   ]
  },
  {
   "cell_type": "code",
   "execution_count": null,
   "metadata": {},
   "outputs": [],
   "source": [
    "#  Who has the highest income?\n",
    "custdata.iloc[custdata.income.argmax()]"
   ]
  },
  {
   "cell_type": "code",
   "execution_count": null,
   "metadata": {},
   "outputs": [],
   "source": [
    "#  ... or possibly...\n",
    "custdata[custdata.income == custdata.income.max()]"
   ]
  },
  {
   "cell_type": "code",
   "execution_count": null,
   "metadata": {},
   "outputs": [],
   "source": [
    "custdata.describe(include=\"all\")"
   ]
  },
  {
   "cell_type": "code",
   "execution_count": null,
   "metadata": {},
   "outputs": [],
   "source": [
    "#  Remove fractional elements for display since we're dealing with large numbers.\n",
    "#\n",
    "#  NOTE:  Setting it this way is universal!\n",
    "pd.options.display.float_format = '{:.2f}'.format\n",
    "\n",
    "#  This is the default:\n",
    "#    pd.options.display.float_format = '{:e}'.format\n",
    "custdata.describe(include=\"all\")"
   ]
  },
  {
   "cell_type": "code",
   "execution_count": null,
   "metadata": {},
   "outputs": [],
   "source": []
  },
  {
   "cell_type": "markdown",
   "metadata": {},
   "source": [
    "From the help for `custdata.describe`:\n",
    "\n",
    "> For numeric data, the result's index will include ``count``,\n",
    "``mean``, ``std``, ``min``, ``max`` as well as lower, ``50`` and\n",
    "upper percentiles. By default the lower percentile is ``25`` and the\n",
    "upper percentile is ``75``. The ``50`` percentile is the\n",
    "same as the median.\n",
    ">\n",
    "> For object data (e.g. strings or timestamps), the result's index\n",
    "will include ``count``, ``unique``, ``top``, and ``freq``. The ``top``\n",
    "is the most common value. The ``freq`` is the most common value's\n",
    "frequency. Timestamps also include the ``first`` and ``last`` items.\n",
    ">\n",
    "> If multiple object values have the highest count, then the\n",
    "``count`` and ``top`` results will be arbitrarily chosen from\n",
    "among those with the highest count."
   ]
  },
  {
   "cell_type": "code",
   "execution_count": null,
   "metadata": {},
   "outputs": [],
   "source": []
  }
 ],
 "metadata": {
  "kernelspec": {
   "display_name": "Python 3",
   "language": "python",
   "name": "python3"
  },
  "language_info": {
   "codemirror_mode": {
    "name": "ipython",
    "version": 3
   },
   "file_extension": ".py",
   "mimetype": "text/x-python",
   "name": "python",
   "nbconvert_exporter": "python",
   "pygments_lexer": "ipython3",
   "version": "3.6.3"
  }
 },
 "nbformat": 4,
 "nbformat_minor": 2
}
