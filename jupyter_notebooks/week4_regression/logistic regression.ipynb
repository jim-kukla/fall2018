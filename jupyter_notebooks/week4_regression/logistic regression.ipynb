{
 "cells": [
  {
   "cell_type": "code",
   "execution_count": 1,
   "metadata": {},
   "outputs": [
    {
     "data": {
      "text/plain": [
       "'1.15.1'"
      ]
     },
     "execution_count": 1,
     "metadata": {},
     "output_type": "execute_result"
    }
   ],
   "source": [
    "from sklearn import datasets\n",
    "import matplotlib.pyplot as plt\n",
    "import numpy as np\n",
    "np.__version__"
   ]
  },
  {
   "cell_type": "markdown",
   "metadata": {},
   "source": [
    "## The Logistic Function\n",
    "\n",
    "The [logistic function](https://en.wikipedia.org/wiki/Logistic_regression#Definition_of_the_logistic_function) is an _s-curve_ that maps the entire domain of $x$ into the range $(0,1)$.  \n",
    "\n",
    "$$p(X) = \\frac{e^{\\beta_0+\\beta_1X}}{1+e^{\\beta_0+\\beta_1X}} = \\frac{1}{1+e^{-(\\beta_0+\\beta_1X)}}$$\n",
    "\n",
    "This is closely related to the [sigmoid function](https://en.wikipedia.org/wiki/Sigmoid_function):\n",
    "\n",
    "$$ S(x) = \\frac{e^x}{1+e^{-x}} = \\frac{1}{1+e^{-x}}$$\n",
    "\n",
    "The sigmoid is a special case of the logistic function."
   ]
  },
  {
   "cell_type": "code",
   "execution_count": 2,
   "metadata": {},
   "outputs": [
    {
     "data": {
      "image/png": "[encoded data removed]",
      "text/plain": [
       "<Figure size 432x288 with 1 Axes>"
      ]
     },
     "metadata": {},
     "output_type": "display_data"
    }
   ],
   "source": [
    "xs = np.linspace(-10, 10, 1000)\n",
    "ys = np.exp(xs)/(1 + np.exp(xs))\n",
    "\n",
    "plt.plot(xs,ys)\n",
    "plt.xlabel(\"x\", fontsize=16)\n",
    "plt.ylabel(\"y\", fontsize=16)\n",
    "plt.suptitle('The Logistic Function')\n",
    "\n",
    "plt.show()"
   ]
  },
  {
   "cell_type": "markdown",
   "metadata": {},
   "source": [
    "https://medium.com/@martinpella/logistic-regression-from-scratch-in-python-124c5636b8ac\n",
    "    \n",
    "and \n",
    "\n",
    "https://github.com/martinpella/logistic-reg/blob/master/logistic_reg.ipynb"
   ]
  },
  {
   "cell_type": "code",
   "execution_count": 3,
   "metadata": {},
   "outputs": [],
   "source": [
    "iris = datasets.load_iris()\n",
    "X = iris.data[:, :2]\n",
    "y = (iris.target != 0) * 1"
   ]
  },
  {
   "cell_type": "code",
   "execution_count": 6,
   "metadata": {},
   "outputs": [
    {
     "data": {
      "image/png": "[encoded data removed]",
      "text/plain": [
       "<Figure size 432x288 with 1 Axes>"
      ]
     },
     "metadata": {},
     "output_type": "display_data"
    }
   ],
   "source": [
    "#plt.figure(figsize=(10, 6))\n",
    "plt.scatter(X[y == 0][:, 0], X[y == 0][:, 1], color='b', label='0')\n",
    "plt.scatter(X[y == 1][:, 0], X[y == 1][:, 1], color='r', label='1')\n",
    "plt.legend();"
   ]
  },
  {
   "cell_type": "code",
   "execution_count": 8,
   "metadata": {},
   "outputs": [],
   "source": [
    "theta = np.zeros(X.shape[1])"
   ]
  },
  {
   "cell_type": "code",
   "execution_count": 9,
   "metadata": {},
   "outputs": [],
   "source": [
    "def sigmoid(z):\n",
    "    return 1 / (1 + np.exp(-z))\n",
    "z = np.dot(X, theta)\n",
    "h = sigmoid(z)"
   ]
  },
  {
   "cell_type": "code",
   "execution_count": 18,
   "metadata": {},
   "outputs": [],
   "source": [
    "def loss(h, y):\n",
    "    return (-y * np.log(h) - (1 - y) * np.log(1 - h)).mean()"
   ]
  },
  {
   "cell_type": "code",
   "execution_count": 19,
   "metadata": {},
   "outputs": [],
   "source": [
    "def add_intercept(X):\n",
    "    intercept = np.ones((X.shape[0], 1))\n",
    "    return np.concatenate((intercept, X), axis=1)"
   ]
  },
  {
   "cell_type": "code",
   "execution_count": 20,
   "metadata": {},
   "outputs": [],
   "source": [
    "def fit(self, X, y):\n",
    "    if fit_intercept:\n",
    "        X = add_intercept(X)\n",
    "        \n",
    "    # weights initialization\n",
    "    theta = np.zeros(X.shape[1])\n",
    "        \n",
    "    for indx in range(num_iter):\n",
    "        z = np.dot(X, theta)\n",
    "        h = sigmoid(z)\n",
    "        gradient = np.dot(X.T, (h - y)) / y.size\n",
    "        theta -= learning_rate * gradient\n",
    "            \n",
    "        z = np.dot(X, self.theta)\n",
    "        h = sigmoid(z)\n",
    "        loss = loss(h, y)\n",
    "                \n",
    "        if(indx % 10000 == 0):\n",
    "            print('loss: '+str(loss)+' \\t')"
   ]
  },
  {
   "cell_type": "code",
   "execution_count": 21,
   "metadata": {},
   "outputs": [],
   "source": [
    "def predict_prob(X):\n",
    "    if fit_intercept:\n",
    "        X = add_intercept(X)\n",
    "    \n",
    "    return sigmoid(np.dot(X, self.theta))\n",
    "    \n",
    "def predict(self, X):\n",
    "    return predict_prob(X).round()"
   ]
  },
  {
   "cell_type": "code",
   "execution_count": null,
   "metadata": {},
   "outputs": [],
   "source": []
  }
 ],
 "metadata": {
  "kernelspec": {
   "display_name": "Python 3",
   "language": "python",
   "name": "python3"
  },
  "language_info": {
   "codemirror_mode": {
    "name": "ipython",
    "version": 3
   },
   "file_extension": ".py",
   "mimetype": "text/x-python",
   "name": "python",
   "nbconvert_exporter": "python",
   "pygments_lexer": "ipython3",
   "version": "3.5.1"
  }
 },
 "nbformat": 4,
 "nbformat_minor": 2
}
