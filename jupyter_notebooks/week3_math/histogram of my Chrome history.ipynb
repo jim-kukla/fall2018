{
 "cells": [
  {
   "cell_type": "markdown",
   "metadata": {},
   "source": [
    "These two pages explain how to get your Chrome history on your computer:\n",
    "    \n",
    "https://superuser.com/questions/602252/can-chrome-browser-history-be-exported-to-an-html-file\n",
    "    \n",
    "https://yuji.wordpress.com/2014/03/10/export-chrome-history-as-csv-spreadsheet/"
   ]
  },
  {
   "cell_type": "code",
   "execution_count": null,
   "metadata": {},
   "outputs": [],
   "source": [
    "#!cp /Users/benpayne/Library/Application Support/Google/Chrome/Default/History ."
   ]
  },
  {
   "cell_type": "markdown",
   "metadata": {},
   "source": [
    "A good tutorial on how to load SQL into Pandas\n",
    "\n",
    "https://www.dataquest.io/blog/python-pandas-databases/\n",
    "\n",
    "The official documentation is\n",
    "\n",
    "https://pandas.pydata.org/pandas-docs/version/0.23.4/generated/pandas.read_sql.html\n",
    "\n",
    "https://pandas.pydata.org/pandas-docs/stable/io.html#sqlite-fallback"
   ]
  },
  {
   "cell_type": "code",
   "execution_count": null,
   "metadata": {},
   "outputs": [],
   "source": [
    "import pandas\n",
    "import sqlite3\n",
    "pandas.__version__"
   ]
  },
  {
   "cell_type": "code",
   "execution_count": null,
   "metadata": {},
   "outputs": [],
   "source": [
    "conn = sqlite3.connect(\"History\")\n",
    "hist_df = pandas.read_sql_query(\"SELECT datetime(last_visit_time/1000000-11644473600,'unixepoch','localtime'), url FROM urls ORDER BY last_visit_time DESC;\", conn)\n",
    "hist_df.columns=['date_time','url']\n",
    "hist_df.head()"
   ]
  },
  {
   "cell_type": "code",
   "execution_count": null,
   "metadata": {},
   "outputs": [],
   "source": [
    "hist_df"
   ]
  },
  {
   "cell_type": "code",
   "execution_count": null,
   "metadata": {},
   "outputs": [],
   "source": [
    "hist_df.dtypes"
   ]
  },
  {
   "cell_type": "markdown",
   "metadata": {},
   "source": [
    "For timestamp format, see \n",
    "http://strftime.org/"
   ]
  },
  {
   "cell_type": "code",
   "execution_count": null,
   "metadata": {},
   "outputs": [],
   "source": [
    "hist_df['date_time'] = pandas.to_datetime(hist_df['date_time'],\n",
    "                                          format='%Y-%m-%d %H:%M:%S',\n",
    "                                          errors='coerce')\n",
    "#,infer_datetime_format=True)\n",
    "#)"
   ]
  },
  {
   "cell_type": "code",
   "execution_count": null,
   "metadata": {},
   "outputs": [],
   "source": [
    "hist_df"
   ]
  },
  {
   "cell_type": "markdown",
   "metadata": {},
   "source": [
    "how many entries are missing a timestamp?"
   ]
  },
  {
   "cell_type": "code",
   "execution_count": null,
   "metadata": {},
   "outputs": [],
   "source": [
    "pandas.isnull(hist_df['date_time']).sum()"
   ]
  },
  {
   "cell_type": "code",
   "execution_count": null,
   "metadata": {},
   "outputs": [],
   "source": [
    "import matplotlib.pyplot as plt"
   ]
  },
  {
   "cell_type": "markdown",
   "metadata": {},
   "source": [
    "Source:\n",
    "https://stackoverflow.com/questions/27365467/can-pandas-plot-a-histogram-of-dates"
   ]
  },
  {
   "cell_type": "code",
   "execution_count": null,
   "metadata": {},
   "outputs": [],
   "source": [
    "hist_df[\"date_time\"].groupby(hist_df[\"date_time\"].dt.month).count().plot(kind=\"bar\")\n",
    "plt.xlabel('month', fontsize=14)\n",
    "plt.ylabel('URL count', fontsize=14)\n",
    "plt.show()"
   ]
  },
  {
   "cell_type": "code",
   "execution_count": null,
   "metadata": {},
   "outputs": [],
   "source": [
    "hist_df[\"date_time\"].groupby(hist_df[\"date_time\"].dt.day).count().plot(kind=\"bar\")\n",
    "plt.xlabel('day', fontsize=14)\n",
    "plt.ylabel('URL count', fontsize=14)\n",
    "plt.show()"
   ]
  },
  {
   "cell_type": "code",
   "execution_count": null,
   "metadata": {},
   "outputs": [],
   "source": [
    "hist_plot = hist_df[\"date_time\"].groupby([hist_df[\"date_time\"].dt.month, hist_df[\"date_time\"].dt.day]).count().plot(kind=\"bar\")\n",
    "# https://stackoverflow.com/questions/20337664/cleanest-way-to-hide-every-nth-tick-label-in-matplotlib-colorbar\n",
    "for label in hist_plot.xaxis.get_ticklabels()[::2]:\n",
    "    label.set_visible(False)\n",
    "plt.xlabel('day', fontsize=14)\n",
    "plt.ylabel('URL count', fontsize=14)\n",
    "plt.show()"
   ]
  },
  {
   "cell_type": "code",
   "execution_count": null,
   "metadata": {},
   "outputs": [],
   "source": [
    "hist_df[\"date_time\"].groupby(hist_df[\"date_time\"].dt.hour).count().plot(kind=\"bar\")\n",
    "plt.xlabel('hour', fontsize=14)\n",
    "plt.ylabel('URL count', fontsize=14)\n",
    "plt.show()"
   ]
  },
  {
   "cell_type": "code",
   "execution_count": null,
   "metadata": {},
   "outputs": [],
   "source": []
  },
  {
   "cell_type": "code",
   "execution_count": null,
   "metadata": {},
   "outputs": [],
   "source": []
  }
 ],
 "metadata": {
  "kernelspec": {
   "display_name": "Python 3",
   "language": "python",
   "name": "python3"
  },
  "language_info": {
   "codemirror_mode": {
    "name": "ipython",
    "version": 3
   },
   "file_extension": ".py",
   "mimetype": "text/x-python",
   "name": "python",
   "nbconvert_exporter": "python",
   "pygments_lexer": "ipython3",
   "version": "3.5.1"
  }
 },
 "nbformat": 4,
 "nbformat_minor": 2
}
