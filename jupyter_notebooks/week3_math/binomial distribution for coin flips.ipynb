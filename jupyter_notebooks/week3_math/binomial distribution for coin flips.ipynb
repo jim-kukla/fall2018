{
 "cells": [
  {
   "cell_type": "code",
   "execution_count": null,
   "metadata": {},
   "outputs": [],
   "source": [
    "import random "
   ]
  },
  {
   "cell_type": "markdown",
   "metadata": {},
   "source": [
    "from http://pi3.sites.sheffield.ac.uk/tutorials/week-9"
   ]
  },
  {
   "cell_type": "code",
   "execution_count": null,
   "metadata": {},
   "outputs": [],
   "source": [
    "number_of_coin_tosses_per_trial = 1000    # number of coin tosses in each trial\n",
    "number_of_trials = 1000    # number of trials"
   ]
  },
  {
   "cell_type": "markdown",
   "metadata": {},
   "source": [
    "Let 0=tails; 1=heads\n",
    "\n",
    "To count the number of heads in a single trial, "
   ]
  },
  {
   "cell_type": "code",
   "execution_count": null,
   "metadata": {},
   "outputs": [],
   "source": [
    "number_of_heads=0\n",
    "for this_flip_indx in range(number_of_coin_tosses_per_trial):\n",
    "    coin_result = random.randint(0,1)\n",
    "    number_of_heads+=coin_result"
   ]
  },
  {
   "cell_type": "markdown",
   "metadata": {},
   "source": [
    "A more concise version of that trial loop is to use a list comprehension.\n",
    "\n",
    "Syntax: \n",
    "\n",
    "`[ expression for item in list if conditional ]`"
   ]
  },
  {
   "cell_type": "code",
   "execution_count": null,
   "metadata": {},
   "outputs": [],
   "source": [
    "number_of_heads = sum([random.randint(0,1) for this_flip_indx in range(number_of_coin_tosses_per_trial)])"
   ]
  },
  {
   "cell_type": "markdown",
   "metadata": {},
   "source": [
    "The intention is to run many trials of the same experiment. \n",
    "\n",
    "We could use a loop"
   ]
  },
  {
   "cell_type": "code",
   "execution_count": null,
   "metadata": {},
   "outputs": [],
   "source": [
    "list_of_trial_results = []\n",
    "for trial_indx in range(number_of_trials):\n",
    "    number_of_heads = sum([random.randint(0,1) for this_flip_indx in range(number_of_coin_tosses_per_trial)])\n",
    "    list_of_trial_results.append(number_of_heads)"
   ]
  },
  {
   "cell_type": "markdown",
   "metadata": {},
   "source": [
    "Or we could use nested list comprehensions"
   ]
  },
  {
   "cell_type": "code",
   "execution_count": null,
   "metadata": {},
   "outputs": [],
   "source": [
    "list_of_trial_results = [sum([random.randint(0,1) for this_flip_indx in range(number_of_coin_tosses_per_trial)]) \n",
    "          for trial_indx in range(number_of_trials)]"
   ]
  },
  {
   "cell_type": "code",
   "execution_count": null,
   "metadata": {},
   "outputs": [],
   "source": [
    "print(len(list_of_trial_results))"
   ]
  },
  {
   "cell_type": "markdown",
   "metadata": {},
   "source": [
    "Each element in the list_of_trial_results is the count of how many times \"heads\" appeared"
   ]
  },
  {
   "cell_type": "code",
   "execution_count": null,
   "metadata": {},
   "outputs": [],
   "source": [
    "list_of_trial_results"
   ]
  },
  {
   "cell_type": "code",
   "execution_count": null,
   "metadata": {},
   "outputs": [],
   "source": [
    "import matplotlib.pyplot as plt"
   ]
  },
  {
   "cell_type": "code",
   "execution_count": null,
   "metadata": {},
   "outputs": [],
   "source": [
    "plt.hist(list_of_trial_results)"
   ]
  },
  {
   "cell_type": "code",
   "execution_count": null,
   "metadata": {},
   "outputs": [],
   "source": [
    "plt.xlabel('number of heads')\n",
    "plt.ylabel('number of trials')\n",
    "plt.axis([425, 575, 0, 40])\n",
    "#plt.grid(True)\n",
    "output=plt.hist(list_of_trial_results,bins=range(number_of_coin_tosses_per_trial))\n",
    "plt.show()"
   ]
  },
  {
   "cell_type": "markdown",
   "metadata": {},
   "source": [
    "Alternative library: Seaborn\n",
    "\n",
    "Seaborn is a Python data visualization library based on matplotlib.\n",
    "\n",
    "https://seaborn.pydata.org/"
   ]
  },
  {
   "cell_type": "code",
   "execution_count": null,
   "metadata": {},
   "outputs": [],
   "source": [
    "import seaborn"
   ]
  },
  {
   "cell_type": "code",
   "execution_count": null,
   "metadata": {},
   "outputs": [],
   "source": [
    "ax = seaborn.distplot(list_of_trial_results)\n",
    "output =ax.set(xlabel='number of heads', ylabel='number of trials')"
   ]
  },
  {
   "cell_type": "code",
   "execution_count": null,
   "metadata": {},
   "outputs": [],
   "source": []
  }
 ],
 "metadata": {
  "kernelspec": {
   "display_name": "Python 3",
   "language": "python",
   "name": "python3"
  },
  "language_info": {
   "codemirror_mode": {
    "name": "ipython",
    "version": 3
   },
   "file_extension": ".py",
   "mimetype": "text/x-python",
   "name": "python",
   "nbconvert_exporter": "python",
   "pygments_lexer": "ipython3",
   "version": "3.5.1"
  }
 },
 "nbformat": 4,
 "nbformat_minor": 2
}
