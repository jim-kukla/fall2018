{
 "cells": [
  {
   "cell_type": "code",
   "execution_count": 1,
   "metadata": {},
   "outputs": [],
   "source": [
    "import random"
   ]
  },
  {
   "cell_type": "code",
   "execution_count": 2,
   "metadata": {},
   "outputs": [
    {
     "name": "stdout",
     "output_type": "stream",
     "text": [
      "length of sequence:  18\n"
     ]
    }
   ],
   "source": [
    "sequence_of_interest = (1, 2, 1, 1, 2, 1, 1, 2, 1, 1, 1, 2, 2, 1, 1, 1, 1, 2)\n",
    "print(\"length of sequence: \",len(sequence_of_interest))"
   ]
  },
  {
   "cell_type": "code",
   "execution_count": 3,
   "metadata": {},
   "outputs": [
    {
     "name": "stdout",
     "output_type": "stream",
     "text": [
      "[1, 2, 1, 1, 2, 1, 1, 2, 1, 1, 1, 2, 2, 1, 1, 1, 1, 2]\n",
      "number of coin flips: 598338\n",
      "2.2928045879998535 seconds\n"
     ]
    }
   ],
   "source": [
    "import timeit\n",
    "start_time = timeit.default_timer()\n",
    "\n",
    "number_of_coin_flips=0\n",
    "this_run=[]  # store the results of the random coin flips in a list\n",
    "while True:\n",
    "    coin = random.randint(1, 2) # random coin flip results in 1 or 2\n",
    "    number_of_coin_flips+=1\n",
    "    this_run.append(coin)       # add coin flip result to list\n",
    "    if (len(this_run)==len(sequence_of_interest)):\n",
    "        found_match=False\n",
    "        for flip_indx in range(len(sequence_of_interest)):\n",
    "#            print(\"flip index is \",flip_indx)\n",
    "#            print(sequence_of_interest)\n",
    "            if (sequence_of_interest[flip_indx] == this_run[flip_indx]):\n",
    "                found_match=True\n",
    "            else: # patterns don't match\n",
    "                found_match=False\n",
    "#                print(\"patterns don't match\",this_run)\n",
    "                this_run=[]\n",
    "                break\n",
    "        if (found_match==True):\n",
    "            print(this_run)\n",
    "            break\n",
    "\n",
    "print(\"number of coin flips:\",number_of_coin_flips)\n",
    "elapsed = timeit.default_timer() - start_time\n",
    "print(str(elapsed) + \" seconds\")"
   ]
  },
  {
   "cell_type": "code",
   "execution_count": null,
   "metadata": {},
   "outputs": [],
   "source": []
  }
 ],
 "metadata": {
  "kernelspec": {
   "display_name": "Python 3",
   "language": "python",
   "name": "python3"
  },
  "language_info": {
   "codemirror_mode": {
    "name": "ipython",
    "version": 3
   },
   "file_extension": ".py",
   "mimetype": "text/x-python",
   "name": "python",
   "nbconvert_exporter": "python",
   "pygments_lexer": "ipython3",
   "version": "3.5.1"
  }
 },
 "nbformat": 4,
 "nbformat_minor": 2
}
