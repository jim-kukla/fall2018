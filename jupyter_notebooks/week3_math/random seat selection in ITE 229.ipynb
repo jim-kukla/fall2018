{
 "cells": [
  {
   "cell_type": "markdown",
   "metadata": {},
   "source": [
    "Create a data structure that quantifies location of participants in ITE 229"
   ]
  },
  {
   "cell_type": "code",
   "execution_count": null,
   "metadata": {},
   "outputs": [],
   "source": [
    "num_seats={}\n",
    "num_seats['back_row']={'left':8, 'right':8} # number of people in the back row\n",
    "num_seats['third_row']={'left':7, 'right':7}\n",
    "num_seats['second_row']={'left':5, 'right':5}\n",
    "num_seats['front_row']={'left':2, 'right':3}"
   ]
  },
  {
   "cell_type": "markdown",
   "metadata": {},
   "source": [
    "Conventions used in this data structure:\n",
    " - seat numbering starts from the center of the room\n",
    " - \"left\" and \"right\" are from the student's perspective"
   ]
  },
  {
   "cell_type": "code",
   "execution_count": null,
   "metadata": {},
   "outputs": [],
   "source": [
    "num_seats"
   ]
  },
  {
   "cell_type": "markdown",
   "metadata": {},
   "source": [
    "Check that the rows are a list"
   ]
  },
  {
   "cell_type": "code",
   "execution_count": null,
   "metadata": {},
   "outputs": [],
   "source": [
    "num_seats.keys()"
   ]
  },
  {
   "cell_type": "code",
   "execution_count": null,
   "metadata": {},
   "outputs": [],
   "source": [
    "import random"
   ]
  },
  {
   "cell_type": "markdown",
   "metadata": {},
   "source": [
    "As an example, select a random row from the keys in the dictionary"
   ]
  },
  {
   "cell_type": "code",
   "execution_count": null,
   "metadata": {},
   "outputs": [],
   "source": [
    "random.choice(list(num_seats.keys()))"
   ]
  },
  {
   "cell_type": "markdown",
   "metadata": {},
   "source": [
    "Once we have a row, we can use this result as the randomly selected key for another choice"
   ]
  },
  {
   "cell_type": "code",
   "execution_count": null,
   "metadata": {},
   "outputs": [],
   "source": [
    "num_seats[random.choice(list(num_seats.keys()))]"
   ]
  },
  {
   "cell_type": "markdown",
   "metadata": {},
   "source": [
    "Again, we can select a random key from this dictionary"
   ]
  },
  {
   "cell_type": "code",
   "execution_count": null,
   "metadata": {},
   "outputs": [],
   "source": [
    "which_row = random.choice(list(num_seats.keys()))\n",
    "print(which_row)\n",
    "\n",
    "which_side = random.choice(list(num_seats[which_row].keys()))\n",
    "print(which_side)\n",
    "\n",
    "which_seat = random.choice(range(num_seats[which_row][which_side]))\n",
    "print(which_seat)"
   ]
  },
  {
   "cell_type": "markdown",
   "metadata": {},
   "source": [
    "<BR>\n",
    "<BR>\n",
    "<BR>\n",
    "<BR>\n",
    "<BR>\n",
    "<BR>\n",
    "<BR>\n",
    "<BR>\n",
    "<BR>\n",
    "<BR>\n",
    "<BR>\n"
   ]
  },
  {
   "cell_type": "markdown",
   "metadata": {},
   "source": [
    "There are alternative ways to index the dictionary"
   ]
  },
  {
   "cell_type": "code",
   "execution_count": null,
   "metadata": {},
   "outputs": [],
   "source": [
    "num_seats_alt={}\n",
    "num_seats_alt['left']={'backrow':8, 'third_row':7, 'second_row':5, 'front_row':2}\n",
    "num_seats_alt['right']={'backrow':8, 'third_row':7, 'second_row':5, 'front_row':3}"
   ]
  },
  {
   "cell_type": "markdown",
   "metadata": {},
   "source": [
    "the same concept applies, though the order of what gets returned changes"
   ]
  },
  {
   "cell_type": "code",
   "execution_count": null,
   "metadata": {},
   "outputs": [],
   "source": [
    "which_side = random.choice(list(num_seats.keys()))\n",
    "print(which_side)\n",
    "\n",
    "which_row = random.choice(list(num_seats[which_side].keys()))\n",
    "print(which_row)\n",
    "\n",
    "which_seat = random.choice(range(num_seats[which_side][which_row]))\n",
    "print(which_seat)"
   ]
  },
  {
   "cell_type": "code",
   "execution_count": null,
   "metadata": {},
   "outputs": [],
   "source": []
  }
 ],
 "metadata": {
  "kernelspec": {
   "display_name": "Python 3",
   "language": "python",
   "name": "python3"
  },
  "language_info": {
   "codemirror_mode": {
    "name": "ipython",
    "version": 3
   },
   "file_extension": ".py",
   "mimetype": "text/x-python",
   "name": "python",
   "nbconvert_exporter": "python",
   "pygments_lexer": "ipython3",
   "version": "3.5.1"
  }
 },
 "nbformat": 4,
 "nbformat_minor": 2
}
