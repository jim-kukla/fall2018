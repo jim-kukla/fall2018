{
 "cells": [
  {
   "cell_type": "markdown",
   "metadata": {},
   "source": [
    "Create a data structure that quantifies the seats in ITE 229"
   ]
  },
  {
   "cell_type": "code",
   "execution_count": 17,
   "metadata": {},
   "outputs": [],
   "source": [
    "num_seats={}\n",
    "num_seats['back_row']={'left':8, 'right':8}\n",
    "num_seats['third_row']={'left':7, 'right':7}\n",
    "num_seats['second_row']={'left':5, 'right':5}\n",
    "num_seats['front_row']={'left':2, 'right':3}"
   ]
  },
  {
   "cell_type": "markdown",
   "metadata": {},
   "source": [
    "For completeness, I will specify that \n",
    " - seat numbering starts from the center of the room\n",
    " - \"left\" and \"right\" are from the student's perspective"
   ]
  },
  {
   "cell_type": "code",
   "execution_count": 18,
   "metadata": {},
   "outputs": [
    {
     "data": {
      "text/plain": [
       "{'back_row': {'left': 8, 'right': 8},\n",
       " 'front_row': {'left': 2, 'right': 3},\n",
       " 'second_row': {'left': 5, 'right': 5},\n",
       " 'third_row': {'left': 7, 'right': 7}}"
      ]
     },
     "execution_count": 18,
     "metadata": {},
     "output_type": "execute_result"
    }
   ],
   "source": [
    "num_seats"
   ]
  },
  {
   "cell_type": "code",
   "execution_count": 19,
   "metadata": {},
   "outputs": [
    {
     "data": {
      "text/plain": [
       "dict_keys(['front_row', 'second_row', 'third_row', 'back_row'])"
      ]
     },
     "execution_count": 19,
     "metadata": {},
     "output_type": "execute_result"
    }
   ],
   "source": [
    "num_seats.keys()"
   ]
  },
  {
   "cell_type": "code",
   "execution_count": 20,
   "metadata": {},
   "outputs": [],
   "source": [
    "import random"
   ]
  },
  {
   "cell_type": "markdown",
   "metadata": {},
   "source": [
    "As an example, select a random row from the keys in the dictionary"
   ]
  },
  {
   "cell_type": "code",
   "execution_count": 21,
   "metadata": {},
   "outputs": [
    {
     "data": {
      "text/plain": [
       "'back_row'"
      ]
     },
     "execution_count": 21,
     "metadata": {},
     "output_type": "execute_result"
    }
   ],
   "source": [
    "random.choice(list(num_seats.keys()))"
   ]
  },
  {
   "cell_type": "markdown",
   "metadata": {},
   "source": [
    "We can use this as the randomly selected key "
   ]
  },
  {
   "cell_type": "code",
   "execution_count": 22,
   "metadata": {},
   "outputs": [
    {
     "data": {
      "text/plain": [
       "{'left': 5, 'right': 5}"
      ]
     },
     "execution_count": 22,
     "metadata": {},
     "output_type": "execute_result"
    }
   ],
   "source": [
    "num_seats[random.choice(list(num_seats.keys()))]"
   ]
  },
  {
   "cell_type": "markdown",
   "metadata": {},
   "source": [
    "Again, we can select a random key from this dictionary"
   ]
  },
  {
   "cell_type": "code",
   "execution_count": 23,
   "metadata": {},
   "outputs": [
    {
     "name": "stdout",
     "output_type": "stream",
     "text": [
      "second_row\n",
      "left\n",
      "0\n"
     ]
    }
   ],
   "source": [
    "which_row = random.choice(list(num_seats.keys()))\n",
    "print(which_row)\n",
    "\n",
    "which_side = random.choice(list(num_seats[which_row].keys()))\n",
    "print(which_side)\n",
    "\n",
    "which_seat = random.choice(range(num_seats[which_row][which_side]))\n",
    "print(which_seat)"
   ]
  },
  {
   "cell_type": "markdown",
   "metadata": {},
   "source": [
    "<BR>\n",
    "<BR>\n",
    "<BR>\n",
    "<BR>\n",
    "<BR>\n",
    "<BR>\n",
    "<BR>\n",
    "<BR>\n",
    "<BR>\n",
    "<BR>\n",
    "<BR>\n"
   ]
  },
  {
   "cell_type": "markdown",
   "metadata": {},
   "source": [
    "There are alternative ways to index the dictionary"
   ]
  },
  {
   "cell_type": "code",
   "execution_count": 25,
   "metadata": {},
   "outputs": [],
   "source": [
    "num_seats_alt={}\n",
    "num_seats_alt['left']={'backrow':8, 'third_row':7, 'second_row':5, 'front_row':2}\n",
    "num_seats_alt['right']={'backrow':8, 'third_row':7, 'second_row':5, 'front_row':3}"
   ]
  },
  {
   "cell_type": "markdown",
   "metadata": {},
   "source": [
    "the same concept applies, though the order of what gets returned changes"
   ]
  },
  {
   "cell_type": "code",
   "execution_count": 26,
   "metadata": {},
   "outputs": [
    {
     "name": "stdout",
     "output_type": "stream",
     "text": [
      "third_row\n",
      "right\n",
      "5\n"
     ]
    }
   ],
   "source": [
    "which_side = random.choice(list(num_seats.keys()))\n",
    "print(which_side)\n",
    "\n",
    "which_row = random.choice(list(num_seats[which_side].keys()))\n",
    "print(which_row)\n",
    "\n",
    "which_seat = random.choice(range(num_seats[which_side][which_row]))\n",
    "print(which_seat)"
   ]
  },
  {
   "cell_type": "code",
   "execution_count": null,
   "metadata": {},
   "outputs": [],
   "source": []
  }
 ],
 "metadata": {
  "kernelspec": {
   "display_name": "Python 3",
   "language": "python",
   "name": "python3"
  },
  "language_info": {
   "codemirror_mode": {
    "name": "ipython",
    "version": 3
   },
   "file_extension": ".py",
   "mimetype": "text/x-python",
   "name": "python",
   "nbconvert_exporter": "python",
   "pygments_lexer": "ipython3",
   "version": "3.5.1"
  }
 },
 "nbformat": 4,
 "nbformat_minor": 2
}
