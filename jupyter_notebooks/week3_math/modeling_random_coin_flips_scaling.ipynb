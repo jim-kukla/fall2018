{
 "cells": [
  {
   "cell_type": "code",
   "execution_count": null,
   "metadata": {},
   "outputs": [],
   "source": [
    "import random\n",
    "import timeit"
   ]
  },
  {
   "cell_type": "code",
   "execution_count": null,
   "metadata": {},
   "outputs": [],
   "source": [
    "def create_sequence_of_interest(length_of_seq):\n",
    "    list_of_flips=[]\n",
    "    for this_flip in range(length_of_seq):\n",
    "        list_of_flips.append(random.randint(1, 2))\n",
    "    return tuple(list_of_flips)"
   ]
  },
  {
   "cell_type": "code",
   "execution_count": null,
   "metadata": {},
   "outputs": [],
   "source": [
    "def find_match(sequence_of_interest):\n",
    "    start_time = timeit.default_timer()\n",
    "    number_of_coin_flips=0\n",
    "    this_run=[]  # store the results of the random coin flips in a list\n",
    "    while True:\n",
    "        coin = random.randint(1, 2) # random coin flip results in 1 or 2\n",
    "        number_of_coin_flips+=1\n",
    "        this_run.append(coin)       # add coin flip result to list\n",
    "        if (len(this_run)==len(sequence_of_interest)):\n",
    "            found_match=False\n",
    "            for flip_indx in range(len(sequence_of_interest)):\n",
    "                if (sequence_of_interest[flip_indx] == this_run[flip_indx]):\n",
    "                    found_match=True\n",
    "                else: # patterns don't match\n",
    "                    found_match=False\n",
    "                    this_run=[]\n",
    "                    break\n",
    "            if (found_match==True):\n",
    "                #print(this_run)\n",
    "                break\n",
    "\n",
    "    #print(\"number of coin flips:\",number_of_coin_flips)\n",
    "    elapsed = timeit.default_timer() - start_time\n",
    "    #print(str(elapsed) + \" seconds\")\n",
    "    return elapsed, number_of_coin_flips"
   ]
  },
  {
   "cell_type": "code",
   "execution_count": null,
   "metadata": {},
   "outputs": [],
   "source": [
    "number_of_tries_per_loop=1000\n",
    "start_length=3\n",
    "end_length=10"
   ]
  },
  {
   "cell_type": "code",
   "execution_count": null,
   "metadata": {},
   "outputs": [],
   "source": [
    "list_of_results=[]\n",
    "for length_of_seq in range(3,10):\n",
    "    for this_try in range(number_of_tries_per_loop):\n",
    "        sequence_of_interest = create_sequence_of_interest(length_of_seq)\n",
    "#        print(sequence_of_interest)\n",
    "\n",
    "        elapsed, number_of_coin_flips = find_match(sequence_of_interest)\n",
    "#        print(elapsed,\"seconds\")\n",
    "#        print(number_of_coin_flips)\n",
    "        this_result={}\n",
    "        this_result['elapsed time in seconds'] = elapsed\n",
    "        this_result['number of flips'] = number_of_coin_flips\n",
    "        this_result['sequence length'] = length_of_seq\n",
    "        list_of_results.append(this_result)"
   ]
  },
  {
   "cell_type": "code",
   "execution_count": null,
   "metadata": {},
   "outputs": [],
   "source": [
    "import pandas\n",
    "pandas.__version__"
   ]
  },
  {
   "cell_type": "code",
   "execution_count": null,
   "metadata": {},
   "outputs": [],
   "source": [
    "results_df = pandas.DataFrame(list_of_results)\n",
    "results_df.head(10)"
   ]
  },
  {
   "cell_type": "code",
   "execution_count": null,
   "metadata": {},
   "outputs": [],
   "source": [
    "import matplotlib\n",
    "import matplotlib.pyplot as plt\n",
    "matplotlib.__version__"
   ]
  },
  {
   "cell_type": "code",
   "execution_count": null,
   "metadata": {},
   "outputs": [],
   "source": [
    "results_df.plot.scatter(x='sequence length',y='elapsed time in seconds')\n",
    "plt.show()"
   ]
  },
  {
   "cell_type": "code",
   "execution_count": null,
   "metadata": {},
   "outputs": [],
   "source": [
    "results_df.plot.scatter(x='sequence length',y='number of flips')\n",
    "plt.show()"
   ]
  },
  {
   "cell_type": "code",
   "execution_count": null,
   "metadata": {},
   "outputs": [],
   "source": [
    "results_df.groupby('sequence length').describe()"
   ]
  },
  {
   "cell_type": "markdown",
   "metadata": {},
   "source": [
    "We can add error bars to the plot for each sequence length\n",
    "\n",
    "https://matplotlib.org/api/_as_gen/matplotlib.pyplot.errorbar.html\n",
    "\n",
    "https://matplotlib.org/1.2.1/examples/pylab_examples/errorbar_demo.html\n",
    "\n",
    "https://matplotlib.org/gallery/statistics/errorbar_features.html\n",
    "\n",
    "or use a violin plot"
   ]
  },
  {
   "cell_type": "code",
   "execution_count": null,
   "metadata": {},
   "outputs": [],
   "source": [
    "import seaborn\n",
    "seaborn.__version__"
   ]
  },
  {
   "cell_type": "code",
   "execution_count": null,
   "metadata": {},
   "outputs": [],
   "source": [
    "ax = seaborn.violinplot(x=\"sequence length\", \n",
    "                        y=\"number of flips\", \n",
    "                        data=results_df,\n",
    "                        showmeans=True,\n",
    "                        showextrema=True,\n",
    "                        showmedians=True)"
   ]
  },
  {
   "cell_type": "code",
   "execution_count": null,
   "metadata": {},
   "outputs": [],
   "source": []
  }
 ],
 "metadata": {
  "kernelspec": {
   "display_name": "Python 3",
   "language": "python",
   "name": "python3"
  },
  "language_info": {
   "codemirror_mode": {
    "name": "ipython",
    "version": 3
   },
   "file_extension": ".py",
   "mimetype": "text/x-python",
   "name": "python",
   "nbconvert_exporter": "python",
   "pygments_lexer": "ipython3",
   "version": "3.5.1"
  }
 },
 "nbformat": 4,
 "nbformat_minor": 2
}
