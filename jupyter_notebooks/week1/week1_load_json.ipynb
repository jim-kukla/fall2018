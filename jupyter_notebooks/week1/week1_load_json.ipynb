{
 "cells": [
  {
   "cell_type": "code",
   "execution_count": 21,
   "metadata": {
    "collapsed": false
   },
   "outputs": [],
   "source": [
    "import json\n",
    "import pprint"
   ]
  },
  {
   "cell_type": "code",
   "execution_count": 26,
   "metadata": {
    "collapsed": false
   },
   "outputs": [
    {
     "name": "stdout",
     "output_type": "stream",
     "text": [
      "{u'menu': {u'id': u'file',\n",
      "           u'popup': {u'menuitem': [{u'onclick': u'CreateNewDoc()',\n",
      "                                     u'value': u'New'},\n",
      "                                    {u'onclick': u'OpenDoc()',\n",
      "                                     u'value': u'Open'},\n",
      "                                    {u'onclick': u'CloseDoc()',\n",
      "                                     u'value': u'Close'}]},\n",
      "           u'value': u'File'}}\n"
     ]
    }
   ],
   "source": [
    "menu_data = json.load(open(\"sample_menu.json\",\"r\"))\n",
    "pprint.pprint(menu_data)"
   ]
  },
  {
   "cell_type": "code",
   "execution_count": 25,
   "metadata": {
    "collapsed": false
   },
   "outputs": [
    {
     "data": {
      "text/plain": [
       "u'CreateNewDoc()'"
      ]
     },
     "execution_count": 25,
     "metadata": {},
     "output_type": "execute_result"
    }
   ],
   "source": [
    "menu_data['menu']['popup']['menuitem'][0]['onclick']"
   ]
  },
  {
   "cell_type": "code",
   "execution_count": null,
   "metadata": {
    "collapsed": true
   },
   "outputs": [],
   "source": []
  }
 ],
 "metadata": {
  "kernelspec": {
   "display_name": "Python 2",
   "language": "python",
   "name": "python2"
  },
  "language_info": {
   "codemirror_mode": {
    "name": "ipython",
    "version": 2
   },
   "file_extension": ".py",
   "mimetype": "text/x-python",
   "name": "python",
   "nbconvert_exporter": "python",
   "pygments_lexer": "ipython2",
   "version": "2.7.10"
  }
 },
 "nbformat": 4,
 "nbformat_minor": 2
}
