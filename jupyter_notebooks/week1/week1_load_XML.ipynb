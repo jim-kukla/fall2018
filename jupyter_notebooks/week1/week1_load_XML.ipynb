{
 "cells": [
  {
   "cell_type": "markdown",
   "metadata": {},
   "source": [
    "multiple ways to read XML files"
   ]
  },
  {
   "cell_type": "code",
   "execution_count": 14,
   "metadata": {},
   "outputs": [],
   "source": [
    "import xml.etree.ElementTree\n",
    "menu = xml.etree.ElementTree.parse('sample_menu.xml').getroot()"
   ]
  },
  {
   "cell_type": "code",
   "execution_count": 15,
   "metadata": {},
   "outputs": [
    {
     "data": {
      "text/plain": [
       "<Element 'menu' at 0x104884d18>"
      ]
     },
     "execution_count": 15,
     "metadata": {},
     "output_type": "execute_result"
    }
   ],
   "source": [
    "menu"
   ]
  },
  {
   "cell_type": "code",
   "execution_count": 19,
   "metadata": {},
   "outputs": [
    {
     "name": "stdout",
     "output_type": "stream",
     "text": [
      "[<DOM Element: menuitem at 0x104a88210>, <DOM Element: menuitem at 0x104a882a8>, <DOM Element: menuitem at 0x104a88340>]\n"
     ]
    }
   ],
   "source": [
    "from xml.dom import minidom\n",
    "xmldoc = minidom.parse('sample_menu.xml')\n",
    "itemlist = xmldoc.getElementsByTagName('menuitem')\n",
    "print(itemlist)"
   ]
  },
  {
   "cell_type": "code",
   "execution_count": null,
   "metadata": {},
   "outputs": [],
   "source": []
  },
  {
   "cell_type": "code",
   "execution_count": 5,
   "metadata": {},
   "outputs": [],
   "source": [
    "import xmltodict\n",
    "with open('sample_menu.xml') as fd:\n",
    "    doc = xmltodict.parse(fd.read())"
   ]
  },
  {
   "cell_type": "code",
   "execution_count": 6,
   "metadata": {},
   "outputs": [
    {
     "data": {
      "text/plain": [
       "OrderedDict([('menu',\n",
       "              OrderedDict([('@id', 'file'),\n",
       "                           ('@value', 'File'),\n",
       "                           ('popup',\n",
       "                            OrderedDict([('menuitem',\n",
       "                                          [OrderedDict([('@value', 'New'),\n",
       "                                                        ('@onclick',\n",
       "                                                         'CreateNewDoc()')]),\n",
       "                                           OrderedDict([('@value', 'Open'),\n",
       "                                                        ('@onclick',\n",
       "                                                         'OpenDoc()')]),\n",
       "                                           OrderedDict([('@value', 'Close'),\n",
       "                                                        ('@onclick',\n",
       "                                                         'CloseDoc()')])])]))]))])"
      ]
     },
     "execution_count": 6,
     "metadata": {},
     "output_type": "execute_result"
    }
   ],
   "source": [
    "doc"
   ]
  },
  {
   "cell_type": "code",
   "execution_count": 9,
   "metadata": {},
   "outputs": [
    {
     "data": {
      "text/plain": [
       "[OrderedDict([('@value', 'New'), ('@onclick', 'CreateNewDoc()')]),\n",
       " OrderedDict([('@value', 'Open'), ('@onclick', 'OpenDoc()')]),\n",
       " OrderedDict([('@value', 'Close'), ('@onclick', 'CloseDoc()')])]"
      ]
     },
     "execution_count": 9,
     "metadata": {},
     "output_type": "execute_result"
    }
   ],
   "source": [
    "doc['menu']['popup']['menuitem']"
   ]
  },
  {
   "cell_type": "markdown",
   "metadata": {},
   "source": [
    "OrderedDict replacement"
   ]
  },
  {
   "cell_type": "code",
   "execution_count": 10,
   "metadata": {},
   "outputs": [],
   "source": [
    "#https://stackoverflow.com/questions/20166749/how-to-convert-an-ordereddict-into-a-regular-dict-in-python3\n",
    "import json\n",
    "from collections import OrderedDict\n",
    "output_dict = json.loads(json.dumps(doc))"
   ]
  },
  {
   "cell_type": "code",
   "execution_count": 11,
   "metadata": {},
   "outputs": [
    {
     "data": {
      "text/plain": [
       "{'menu': {'@id': 'file',\n",
       "  '@value': 'File',\n",
       "  'popup': {'menuitem': [{'@onclick': 'CreateNewDoc()', '@value': 'New'},\n",
       "    {'@onclick': 'OpenDoc()', '@value': 'Open'},\n",
       "    {'@onclick': 'CloseDoc()', '@value': 'Close'}]}}}"
      ]
     },
     "execution_count": 11,
     "metadata": {},
     "output_type": "execute_result"
    }
   ],
   "source": [
    "output_dict"
   ]
  },
  {
   "cell_type": "code",
   "execution_count": 13,
   "metadata": {},
   "outputs": [
    {
     "data": {
      "text/plain": [
       "[{'@onclick': 'CreateNewDoc()', '@value': 'New'},\n",
       " {'@onclick': 'OpenDoc()', '@value': 'Open'},\n",
       " {'@onclick': 'CloseDoc()', '@value': 'Close'}]"
      ]
     },
     "execution_count": 13,
     "metadata": {},
     "output_type": "execute_result"
    }
   ],
   "source": [
    "output_dict['menu']['popup']['menuitem']"
   ]
  },
  {
   "cell_type": "code",
   "execution_count": null,
   "metadata": {},
   "outputs": [],
   "source": []
  }
 ],
 "metadata": {
  "kernelspec": {
   "display_name": "Python 3",
   "language": "python",
   "name": "python3"
  },
  "language_info": {
   "codemirror_mode": {
    "name": "ipython",
    "version": 3
   },
   "file_extension": ".py",
   "mimetype": "text/x-python",
   "name": "python",
   "nbconvert_exporter": "python",
   "pygments_lexer": "ipython3",
   "version": "3.5.1"
  }
 },
 "nbformat": 4,
 "nbformat_minor": 2
}
